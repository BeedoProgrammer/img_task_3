{
 "cells": [
  {
   "cell_type": "code",
   "execution_count": null,
   "metadata": {},
   "outputs": [],
   "source": [
    "import cv2\n",
    "import matplotlib.pyplot as plt\n",
    "import numpy as np\n",
    "\n",
    "def display_img(img):\n",
    "    rgb_img = cv2.cvtColor(img, cv2.COLOR_BGR2RGB)\n",
    "    plt.imshow(rgb_img)\n",
    "    plt.axis('off')\n",
    "    plt.show()\n",
    "\n",
    "img = cv2.imread(\"Ronaldo.jpg\")\n",
    "blurred_img = cv2.GaussianBlur(img, (3,3), 100)\n",
    "gray_img = cv2.cvtColor(blurred_img, cv2.COLOR_BGR2GRAY)\n",
    "\n",
    "circles = cv2.HoughCircles(gray_img, method=cv2.HOUGH_GRADIENT, dp=1, minDist=300, \n",
    "                        param1=150, param2=50, minRadius=100, maxRadius=250)\n",
    "\n",
    "if circles is not None:\n",
    "      circles = np.uint16(np.around(circles))\n",
    "      for i in circles[0, :]:\n",
    "        center = (i[0], i[1])\n",
    "        radius = i[2]\n",
    "\n",
    "        cv2.circle(img, center, radius, (0, 0, 255), 5)\n",
    "    \n",
    "display_img(img)\n"
   ]
  }
 ],
 "metadata": {
  "kernelspec": {
   "display_name": "Python 3",
   "language": "python",
   "name": "python3"
  },
  "language_info": {
   "codemirror_mode": {
    "name": "ipython",
    "version": 3
   },
   "file_extension": ".py",
   "mimetype": "text/x-python",
   "name": "python",
   "nbconvert_exporter": "python",
   "pygments_lexer": "ipython3",
   "version": "3.11.5"
  }
 },
 "nbformat": 4,
 "nbformat_minor": 2
}
